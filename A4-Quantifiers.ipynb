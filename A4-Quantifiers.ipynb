{
 "cells": [
  {
   "cell_type": "markdown",
   "metadata": {},
   "source": [
    "## Assignment 5 - Quantifiers"
   ]
  },
  {
   "cell_type": "markdown",
   "metadata": {},
   "source": [
    "### 1 Universal and Existential Quantifiers"
   ]
  },
  {
   "cell_type": "markdown",
   "metadata": {},
   "source": [
    "Demonstrate Universal Quantifiers and Existential Quantifiers using Python code. Create functions:    \n",
    "1. Predicate 1: tests if a number is even\n",
    "2. Predicate 2: tests if a number is positive\n",
    "3. Predicate 3: tests if a number is negative\n",
    "\n",
    "Create two domains: \n",
    "1. Domain 1: list of numbers from 1 to 11 exclusive\n",
    "2. Domain 2: list of the numbers 2, 4, 6, 8\n",
    "\n",
    "Test the following quanifiers:\n",
    "1. Test if all the integers in domain 1 are even\n",
    "2. Test if all the integers in domain 2 are even\n",
    "3. Test if any the integers in domain 1 are positive\n",
    "4. Test if any of the integers in domain 1 are negative\n",
    "\n",
    "When printing your results, be clear what Predicate is being used as well as what is being tested. Print out True or False after that. Output code is given for you to use."
   ]
  },
  {
   "cell_type": "code",
   "execution_count": 3,
   "metadata": {},
   "outputs": [],
   "source": [
    "# Demonstrate Univ Quant and Exist Quant\n",
    "\n",
    "def is_even(x):\n",
    "    \"\"\"Predicate 1: Checks if x is even.\"\"\"\n",
    "    \n",
    "\n",
    "def is_positive(x):\n",
    "    \"\"\"Predicate 2: Checks if x is positive.\"\"\"\n",
    "    \n",
    "\n",
    "def is_negative(x):\n",
    "    \"\"\"Predicate 4: Checks if x is negative.\"\"\"\n",
    "    \n",
    "\n",
    "def demonstrate_quantifiers():\n",
    "    \"\"\"Demonstrates both existential and universal quantifiers using Python and SymPy.\"\"\"\n",
    "    \n",
    "\n",
    "    # Universal Quantifier (∀x): For all x, x is even (domain 1)\n",
    "    \n",
    "\n",
    "    # Universal Quantifier (∀x): For all x, x is even (domain 2)\n",
    "    \n",
    "\n",
    "    # Existential Quantifier (∃x): There exists an x such that x is positive\n",
    "    \n",
    "\n",
    "    # Existential Quantifier (∃x): There exists an x such that x is negative\n",
    "    \n",
    "\n",
    "demonstrate_quantifiers()\n"
   ]
  },
  {
   "cell_type": "markdown",
   "metadata": {},
   "source": [
    "### 2 Uniqueness Quantifier"
   ]
  },
  {
   "cell_type": "markdown",
   "metadata": {},
   "source": [
    "Create a function to test if a number is a prime. Now create a domain with integers from 1 to 10 inclusive. Now determine if there is a unique prime number in the set of integers between 1 to 10. Print out the Predicate and the Uniqueness being checked for along with the True or False."
   ]
  },
  {
   "cell_type": "code",
   "execution_count": 1,
   "metadata": {},
   "outputs": [],
   "source": [
    "# Demonstrate the uniqueness quantifier\n",
    "\n",
    "def is_prime(x):\n",
    "    \"\"\"Predicate: Checks if x is a prime number.\"\"\"\n",
    "    \n",
    "    \n",
    "\n",
    "def demonstrate_uniqueness_quantifier():\n",
    "    \"\"\"Demonstrates the uniqueness quantifier (∃!) using Python.\"\"\"\n",
    "    \n",
    "    \n",
    "\n",
    "demonstrate_uniqueness_quantifier()"
   ]
  },
  {
   "cell_type": "markdown",
   "metadata": {},
   "source": [
    "### 3 Nested Quantifiers"
   ]
  },
  {
   "cell_type": "markdown",
   "metadata": {},
   "source": [
    "Demonstrate nested quantifiers. Create functions:\n",
    "1. Predicate 1: tests if a number is even\n",
    "2. Predicate 2: tests if a number is positive\n",
    "\n",
    "Create two domains:    \n",
    "x: integers 1 to 10 inclusive    \n",
    "y: integers 1 to 10 inclusive   \n",
    "\n",
    "Demonstrate that \"(∃x ∃y): There exists an even x and a positive y such that x + y = 10\"    \n",
    "Be sure to print the Predicates and quantifier being tested along with the True or False values.\n"
   ]
  },
  {
   "cell_type": "code",
   "execution_count": 4,
   "metadata": {},
   "outputs": [],
   "source": [
    "# Demonstrate Nested Quantifiers with an example\n",
    "\n",
    "def is_even(x):\n",
    "    \"\"\"Predicate: Checks if x is even.\"\"\"\n",
    "    \n",
    "\n",
    "def is_positive(y):\n",
    "    \"\"\"Predicate: Checks if y is positive.\"\"\"\n",
    "    \n",
    "\n",
    "def demonstrate_nested_quantifiers():\n",
    "    \"\"\"Demonstrates nested quantifiers in Python.\"\"\"\n",
    "    \n",
    "\n",
    "demonstrate_nested_quantifiers()"
   ]
  },
  {
   "cell_type": "code",
   "execution_count": null,
   "metadata": {},
   "outputs": [],
   "source": []
  }
 ],
 "metadata": {
  "kernelspec": {
   "display_name": ".venv",
   "language": "python",
   "name": "python3"
  },
  "language_info": {
   "codemirror_mode": {
    "name": "ipython",
    "version": 3
   },
   "file_extension": ".py",
   "mimetype": "text/x-python",
   "name": "python",
   "nbconvert_exporter": "python",
   "pygments_lexer": "ipython3",
   "version": "3.11.3"
  },
  "orig_nbformat": 4
 },
 "nbformat": 4,
 "nbformat_minor": 2
}
