{
 "cells": [
  {
   "cell_type": "markdown",
   "metadata": {},
   "source": [
    "## Assignment 2 - Propositional Logic"
   ]
  },
  {
   "cell_type": "markdown",
   "metadata": {},
   "source": [
    "### 1: Convert the following into logic notation using Python with SymPy. Use both standard notation and using function calls such as Or, And, Implies format as well.\n",
    "1. y or (not x and y)\n",
    "2. a implies b\n",
    "3. (m or not n) and (r or not s)"
   ]
  },
  {
   "cell_type": "code",
   "execution_count": 2,
   "metadata": {},
   "outputs": [],
   "source": [
    "from sympy import *"
   ]
  },
  {
   "cell_type": "code",
   "execution_count": 4,
   "metadata": {},
   "outputs": [],
   "source": [
    "# 1a. y or (not x and y) standard\n",
    "\n"
   ]
  },
  {
   "cell_type": "code",
   "execution_count": 5,
   "metadata": {},
   "outputs": [],
   "source": [
    "# 1b. y or (not x and y) function calls\n"
   ]
  },
  {
   "cell_type": "code",
   "execution_count": 6,
   "metadata": {},
   "outputs": [],
   "source": [
    "# 2a. a implies b standard\n"
   ]
  },
  {
   "cell_type": "code",
   "execution_count": 7,
   "metadata": {},
   "outputs": [],
   "source": [
    "# 2b. a implies b function calls\n"
   ]
  },
  {
   "cell_type": "code",
   "execution_count": 8,
   "metadata": {},
   "outputs": [],
   "source": [
    "# 3a. (m or not n) and (r or not s) standard\n"
   ]
  },
  {
   "cell_type": "code",
   "execution_count": 9,
   "metadata": {},
   "outputs": [],
   "source": [
    "# 3b. (m or not n) and (r or not s) function calls\n"
   ]
  },
  {
   "cell_type": "markdown",
   "metadata": {},
   "source": [
    "### 2: Now create the code for the following and substitute the given true or false values. You can use either format, but keep in mind some of them may require function calls format.\n",
    "1. y or x. y = False, x = True\n",
    "2. (a implies b) or m. a = False, b = True, m = True\n",
    "3. (m or n) and (a or (b and c)). m = True, n = False, a = False, b = True, c = False"
   ]
  },
  {
   "cell_type": "code",
   "execution_count": 10,
   "metadata": {},
   "outputs": [],
   "source": [
    "# 1. y | x, y = False, x = True\n",
    "\n",
    "# Substitute the given values y = False and x = True into the expression"
   ]
  },
  {
   "cell_type": "code",
   "execution_count": 12,
   "metadata": {},
   "outputs": [],
   "source": [
    "# 2. (a implies b) or m. a = False, b = True, m = True\n",
    "\n",
    "\n",
    "# Substitute the given values a = False, b = True, and m = True into the expression\n"
   ]
  },
  {
   "cell_type": "code",
   "execution_count": 14,
   "metadata": {},
   "outputs": [],
   "source": [
    "# 3. (m or n) and (a or (b and c)). m = True, n = False, a = False, b = True, c = False\n",
    "\n",
    "\n",
    "# Substitute the given values m = True, n = False, a = False, b = True, and c = False into the expression\n"
   ]
  },
  {
   "cell_type": "code",
   "execution_count": null,
   "metadata": {},
   "outputs": [],
   "source": []
  },
  {
   "cell_type": "markdown",
   "metadata": {},
   "source": [
    "### 3: Create the truth tables for:\n",
    "1. Conjunction\n",
    "2. Disjunction\n",
    "3. Implication\n",
    "4. Exclusive Disjunction\n",
    "5. Truth Table for (y and z) or (not w and not x)\n",
    "\n",
    "There are many ways to do this. You can do it without SymPy, or use SymPy's truth table import and you are free to get as complex as you want. Use x and y variables.\n"
   ]
  },
  {
   "cell_type": "code",
   "execution_count": 15,
   "metadata": {},
   "outputs": [],
   "source": [
    "#  Conjunction Truth Table"
   ]
  },
  {
   "cell_type": "code",
   "execution_count": 16,
   "metadata": {},
   "outputs": [],
   "source": [
    "# Disjunction Truth Table\n"
   ]
  },
  {
   "cell_type": "code",
   "execution_count": 17,
   "metadata": {},
   "outputs": [],
   "source": [
    "# Implication Truth Table"
   ]
  },
  {
   "cell_type": "code",
   "execution_count": 18,
   "metadata": {},
   "outputs": [],
   "source": [
    "# Exclusive Disjunction Truth Table"
   ]
  },
  {
   "cell_type": "code",
   "execution_count": 19,
   "metadata": {},
   "outputs": [],
   "source": [
    "# Truth Table for (y and z) or (not w and not x)"
   ]
  },
  {
   "cell_type": "markdown",
   "metadata": {},
   "source": [
    "### 4: Let p and q be the propositions as seen below:    \n",
    "p: You drive over 65 miles per hour.    \n",
    "q: You get a speeding ticket.     \n",
    "Write these propositions using p and q and logical connectives (including negations)\n",
    "1. You do not drive over 65 miles per hour.\n",
    "2. You will get a speeding ticket if you drive over 65 miles per hour.\n",
    "3. If you do not drive over 65 miles per hour, then you will not get a speeding ticket.\n",
    "4. You get a speeding ticket, but you do not drive over 65 miles per hour."
   ]
  },
  {
   "cell_type": "code",
   "execution_count": 20,
   "metadata": {},
   "outputs": [],
   "source": [
    "# 1 You do not drive over 65 miles per hour.\n",
    "\n"
   ]
  },
  {
   "cell_type": "code",
   "execution_count": 21,
   "metadata": {},
   "outputs": [],
   "source": [
    "# 2 You will get a speeding ticket if you drive over 65 miles per hour.\n"
   ]
  },
  {
   "cell_type": "code",
   "execution_count": 22,
   "metadata": {},
   "outputs": [],
   "source": [
    "# 3 If you do not drive over 65 miles per hour, then you will not get a speeding ticket.\n",
    "  "
   ]
  },
  {
   "cell_type": "code",
   "execution_count": 23,
   "metadata": {},
   "outputs": [],
   "source": [
    "# 4 You get a speeding ticket, but you do not drive over 65 miles per hour.\n"
   ]
  }
 ],
 "metadata": {
  "kernelspec": {
   "display_name": ".venv",
   "language": "python",
   "name": "python3"
  },
  "language_info": {
   "codemirror_mode": {
    "name": "ipython",
    "version": 3
   },
   "file_extension": ".py",
   "mimetype": "text/x-python",
   "name": "python",
   "nbconvert_exporter": "python",
   "pygments_lexer": "ipython3",
   "version": "3.11.3"
  },
  "orig_nbformat": 4
 },
 "nbformat": 4,
 "nbformat_minor": 2
}
