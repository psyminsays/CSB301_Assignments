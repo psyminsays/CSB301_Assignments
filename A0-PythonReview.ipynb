{
  "cells": [
    {
      "cell_type": "markdown",
      "metadata": {
        "id": "qJX1HwwaGYl0"
      },
      "source": [
        "# Python Review"
      ]
    },
    {
      "cell_type": "markdown",
      "metadata": {
        "id": "Rk9uMHggFRh2"
      },
      "source": [
        "#### 1. Print two sentences.  Use only one print statement to do it and use the newline escape character between the two sentences. It should (without quotes) read.   \n",
        "\"My name is (your name).    \n",
        "I am a student at North Seattle College.\""
      ]
    },
    {
      "cell_type": "code",
      "execution_count": null,
      "metadata": {
        "id": "BQybla17FRh5"
      },
      "outputs": [],
      "source": []
    },
    {
      "cell_type": "markdown",
      "metadata": {
        "id": "eD1TT77_FRh8"
      },
      "source": [
        "#### 2. Define a variable called phone and insert a phone number without dashes. Print out    \n",
        "\"My phone number is (phone number here)\""
      ]
    },
    {
      "cell_type": "code",
      "execution_count": null,
      "metadata": {
        "id": "P7QDyWncFRh8"
      },
      "outputs": [],
      "source": []
    },
    {
      "cell_type": "markdown",
      "metadata": {
        "id": "8wJrc6V6G29d"
      },
      "source": [
        "#### 3. Be sure to use the f functionality of printing. Save in a variable called phone a phone number with dashes and another variable with your name in it. Print out    \n",
        "\"Hello my name is (your name) and my phone number is (phone number with dashes)\""
      ]
    },
    {
      "cell_type": "code",
      "execution_count": null,
      "metadata": {
        "id": "OnOau948FRh9"
      },
      "outputs": [],
      "source": []
    },
    {
      "cell_type": "markdown",
      "metadata": {
        "id": "L2ILAb5iHHsS"
      },
      "source": [
        "#### 4. Create variables for the month and year you will graduate in one line. \n",
        "#### Using the variables print out \"I graduate in (month) of (year).\"\n",
        "Don't forget the period."
      ]
    },
    {
      "cell_type": "code",
      "execution_count": null,
      "metadata": {
        "id": "5x2rIFzRFRh9"
      },
      "outputs": [],
      "source": []
    },
    {
      "cell_type": "markdown",
      "metadata": {
        "id": "CbK-uSPsFRh-"
      },
      "source": [
        "### Mathematical\n"
      ]
    },
    {
      "cell_type": "markdown",
      "metadata": {
        "id": "x2IYlJHTJsYl"
      },
      "source": [
        "#### 5. Create a variable called ans and into it save the solution to 12 times 5 minus 3 divided by 2. Be sure you write in exactly that order. Print ans. Now write a comment underneath explaining what the TYPE of ans is at the end."
      ]
    },
    {
      "cell_type": "code",
      "execution_count": null,
      "metadata": {
        "id": "OkyeAVPXFRh-"
      },
      "outputs": [],
      "source": []
    },
    {
      "cell_type": "markdown",
      "metadata": {
        "id": "TAqSrXZMFRh_"
      },
      "source": [
        "### Decision Structures"
      ]
    },
    {
      "cell_type": "markdown",
      "metadata": {
        "id": "aR5DPLU6KaiX"
      },
      "source": [
        "#### 6. Create a variable to hold the string \"October\". Now write an if/else statement that tests if that variable says \"October\". If it does, print \"31 days\". If it does not, print \"30 days\""
      ]
    },
    {
      "cell_type": "code",
      "execution_count": null,
      "metadata": {
        "id": "Lo-LEy8bKYmG"
      },
      "outputs": [],
      "source": []
    },
    {
      "cell_type": "markdown",
      "metadata": {
        "id": "t-iUVyOQ3KYs"
      },
      "source": [
        "#### 7. Create a variable and save 140 into it. Now create a decision structure using if, elif and else that does the following:    \n",
        "If the number is greater than 150, print \"greater than 150\"   \n",
        "If the number if greater than 100 but less than 151, print \"between 100 and 150\"   \n",
        "If the number is less than 100, print \"less than 100\"        "
      ]
    },
    {
      "cell_type": "code",
      "execution_count": null,
      "metadata": {
        "id": "qscUkh813QKH"
      },
      "outputs": [],
      "source": []
    },
    {
      "cell_type": "markdown",
      "metadata": {
        "id": "1xpf9181KCS3"
      },
      "source": [
        "#### 8. Create a variable to hold the number 70. Now create two if statements:\n",
        "#### 1st: if the number is divisible by 5 and by 10, then print \"Number is divisible by 5 and 10.\"    \n",
        "#### 2nd: if the number is divisible by 7 or by 2, then print \"Number is divisible by 7 or by 2\""
      ]
    },
    {
      "cell_type": "code",
      "execution_count": null,
      "metadata": {
        "id": "1vxg4nMbFRh_"
      },
      "outputs": [],
      "source": []
    },
    {
      "cell_type": "markdown",
      "metadata": {
        "id": "PlBuSSgOwgyt"
      },
      "source": [
        "#### 9. Create a FOR loop that prints the numbers 1 through 100 that are divisible by 7."
      ]
    },
    {
      "cell_type": "code",
      "execution_count": null,
      "metadata": {
        "id": "JY_Ci5v-FRiA"
      },
      "outputs": [],
      "source": []
    },
    {
      "cell_type": "markdown",
      "metadata": {
        "id": "1TOwGOAYx958"
      },
      "source": [
        "#### 10. Use a while loop to print all numbers from 1 to 10 which are divisible by 3. Print the numbers next to each other with a space in between them. Use a while loop and if statement. Sum up the numbers and printt he sum on a new line."
      ]
    },
    {
      "cell_type": "code",
      "execution_count": null,
      "metadata": {
        "id": "4a1D64hpFRiA"
      },
      "outputs": [],
      "source": []
    },
    {
      "cell_type": "markdown",
      "metadata": {
        "id": "f6ULW1En1BIZ"
      },
      "source": [
        "#### 11. You will be creating a nested loop like we did in class but with a twist. Ultimately, you want 5 sets to print, each one with the output \"Set : (set number)\" each time a new set is looped into. Then before you print all the numbers in that set, you want to test if the number is divisible by 2. If it is, print a string 5 times that looks like this: \"Student (number)\".  So it would have 5 sets... some of them would have strings printed in them, some would not. The ones that would have strings in them would show output like:\n",
        "\"    \n",
        "Set: 1    \n",
        "Set: 2    \n",
        "Student 1    \n",
        "Student 2    \n",
        "Student 3    \n",
        "Student 4    \n",
        "Student 5    \n",
        "Set: 3     \n",
        "...\"    "
      ]
    },
    {
      "cell_type": "code",
      "execution_count": null,
      "metadata": {
        "id": "ntBnYxzi1RPc"
      },
      "outputs": [],
      "source": []
    },
    {
      "cell_type": "markdown",
      "metadata": {
        "id": "572WT7cjzaqR"
      },
      "source": [
        "#### 12. Create a variable called school to hold the string \"Hogwarts\". Create two more variables, the first (call it first) and it will slice out the \"Hog\" and the other (call it second) will slice out the \"warts\" from the first variable. (Do not just save the strings \"Hog and \"warts\" into these two variables!) Now print first and second and then print the last letter of school. "
      ]
    },
    {
      "cell_type": "code",
      "execution_count": null,
      "metadata": {
        "id": "lppms8ctzfRI"
      },
      "outputs": [],
      "source": []
    },
    {
      "cell_type": "markdown",
      "metadata": {
        "id": "6ATPH4fV0fH6"
      },
      "source": [
        "#### 13. Create a list called chars and save these strings in: Thor, She-Hulk, Loki.  Now use a FOR loop to print each item as a concatenation of the string: \" is a character in the Marvel Cinematic Universe..\"  So the output will be:\n",
        "Thor is a character in the Marvel Cinematic Universe.\n",
        "She-Hulk is a character in the Marvel Cinematic Universe.\n",
        "Loki is a character in the Marvel Cinematic Universe."
      ]
    },
    {
      "cell_type": "code",
      "execution_count": null,
      "metadata": {
        "id": "zw2NezoM0zfl"
      },
      "outputs": [],
      "source": []
    },
    {
      "cell_type": "markdown",
      "metadata": {
        "id": "zJtqeA5T1Yxa"
      },
      "source": [
        "#### 14. Create a nested list called months. It will be a list with 6 lists within it. In each nested list will be the name of a month as a string and then the number of days it has. Create this using the first 6 months. Now use a loop with range and len function to print the following string format on each iteration:    \n",
        "\"January has 31 days\"  .... (month name) has (month days) days."
      ]
    },
    {
      "cell_type": "code",
      "execution_count": null,
      "metadata": {
        "id": "rbyZif9a1b2V"
      },
      "outputs": [],
      "source": []
    },
    {
      "cell_type": "markdown",
      "metadata": {
        "id": "R1okOyL22r6D"
      },
      "source": [
        "#### 15. Create a dictionary called dog that hold the data below. Print it. Then print the value of the Breed key. Then use the values in the dictionary to print out the string: \"The Corgi is expected to live about 13 years.\"    \n",
        "Data:     \n",
        "Breed = Corgi   \n",
        "Age Exp. = 13   \n",
        "Type = Cattle herding"
      ]
    },
    {
      "cell_type": "code",
      "execution_count": null,
      "metadata": {
        "id": "p0YE0nqs4Hcz"
      },
      "outputs": [],
      "source": []
    }
  ],
  "metadata": {
    "colab": {
      "provenance": []
    },
    "kernelspec": {
      "display_name": "Python 3",
      "language": "python",
      "name": "python3"
    },
    "language_info": {
      "codemirror_mode": {
        "name": "ipython",
        "version": 3
      },
      "file_extension": ".py",
      "mimetype": "text/x-python",
      "name": "python",
      "nbconvert_exporter": "python",
      "pygments_lexer": "ipython3",
      "version": "3.7.4"
    }
  },
  "nbformat": 4,
  "nbformat_minor": 0
}
