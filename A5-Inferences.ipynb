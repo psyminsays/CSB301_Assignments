{
 "cells": [
  {
   "cell_type": "markdown",
   "metadata": {},
   "source": [
    "## Assignment 6 - Inferences"
   ]
  },
  {
   "cell_type": "markdown",
   "metadata": {},
   "source": [
    "### Inferences Demonstration"
   ]
  },
  {
   "cell_type": "markdown",
   "metadata": {},
   "source": [
    "Create functions to demonstrate the following when it receives two premises:   \n",
    "1. Modus Ponens\n",
    "2. Modus Tollens\n",
    "3. Hypothelical Syllogism\n",
    "4. Disjunctive Syllogism\n",
    "5. Addition\n",
    "6. Resolution\n",
    "\n",
    "Create functions to demonstrate the following when it recieves one premise:    \n",
    "1. Simplification\n",
    "\n",
    "Boilerplate code and comments have been left in here to get you started and give you an idea of how to fill out the rest of these.   \n",
    "The following output is the format expected. This is for Modus Ponens:    \n",
    "\n",
    "Modus Ponens: If p implies q, and p is true, then q is true.    \n",
    "Premise 1: Implies(p, q)    \n",
    "Premise 2 (p is true): p    \n",
    "Conclusion (q is true): q \n",
    "\n",
    "Some hints for this assignment:    \n",
    "Your goal is to create conditions to ensure that the expressions that you pass into the function are exactly what is needed. For modus ponens, you need exactly premise1 = Implies(p, q) and premise2 = p. Be careful here, you cannot use a condition like if premise1 and premise2:, becuase then any premises will be accepted. Look up the Python isinstance() function similar to what is shown in the Modus Ponens function below. You may need additional conditions to ensure what is passed in the only expressions that will work for that rule. Test your functions by passing in incorrect expressions and seeing what they return."
   ]
  },
  {
   "cell_type": "code",
   "execution_count": 2,
   "metadata": {},
   "outputs": [
    {
     "name": "stdout",
     "output_type": "stream",
     "text": [
      "Modus Ponens: If p implies q, and p is true, then q is true.\n",
      "Premise 1: Implies(p, q)\n",
      "Premise 2 (p is true): p\n",
      "Conclusion (q is true): q\n",
      "\n"
     ]
    }
   ],
   "source": [
    "# Inferences\n",
    "\n",
    "from sympy.logic.boolalg import Or, Not, And, Implies\n",
    "from sympy.abc import p, q, r\n",
    "\n",
    "def modus_ponens(premise1, premise2):\n",
    "    \"\"\"Modus Ponens: If p implies q, and p is true, then q is true.\"\"\"\n",
    "    if premise2 and isinstance(premise1, Implies):\n",
    "        if premise1.args[0] == premise2:\n",
    "            return premise1.args[1]\n",
    "    return None\n",
    "    \n",
    "\n",
    "def modus_tollens(premise1, premise2):\n",
    "    \"\"\"Modus Tollens: If p implies q, and q is false, then p is false.\"\"\"\n",
    "    \n",
    "\n",
    "def hypothetical_syllogism(premise1, premise2):\n",
    "    \"\"\"Hypothetical Syllogism: If p implies q, and q implies r, then p implies r.\"\"\"\n",
    "    \n",
    "\n",
    "def disjunctive_syllogism(premise1, premise2):\n",
    "    \"\"\"Disjunctive Syllogism: If p or q is true, and p is false, then q is true.\"\"\"\n",
    "    \n",
    "\n",
    "def addition(premise1, premise2):\n",
    "    \"\"\"Addition: If p is true, then p or q is true.\"\"\"\n",
    "    \n",
    "\n",
    "def simplification(premise):\n",
    "    \"\"\"Simplification: If p and q is true, then p is true.\"\"\"\n",
    "    \n",
    "\n",
    "def resolution(premise1, premise2):\n",
    "    \"\"\"Resolution: If (p or q) and (not q or r) are true, then p or r is true.\"\"\"\n",
    "    \n",
    "\n",
    "# Example premises\n",
    "premise1 = Implies(p, q)\n",
    "premise2 = Implies(q, r)\n",
    "\n",
    "# Modus Ponens\n",
    "conclusion_mp = modus_ponens(premise1, p)\n",
    "print(\"Modus Ponens: If p implies q, and p is true, then q is true.\")\n",
    "print(\"Premise 1:\", premise1)\n",
    "print(\"Premise 2 (p is true):\", p)\n",
    "print(\"Conclusion (q is true):\", conclusion_mp)\n",
    "print()\n",
    "\n",
    "# Modus Tollens\n",
    "\n",
    "\n",
    "# Hypothetical Syllogism\n",
    "\n",
    "\n",
    "# Disjunctive Syllogism\n",
    "disj_premise1 = # ?\n",
    "disj_premise2 = # ?\n",
    "\n",
    "\n",
    "# Addition\n",
    "add_premise1 = # ?\n",
    "add_premise2 = # ?\n",
    "\n",
    "# Simplification\n",
    "simp_premise = # ?\n",
    "\n",
    "\n",
    "# Resolution\n",
    "res_premise1 = # ?\n",
    "res_premise2 = # ?\n"
   ]
  },
  {
   "cell_type": "code",
   "execution_count": null,
   "metadata": {},
   "outputs": [],
   "source": []
  }
 ],
 "metadata": {
  "kernelspec": {
   "display_name": ".venv",
   "language": "python",
   "name": "python3"
  },
  "language_info": {
   "codemirror_mode": {
    "name": "ipython",
    "version": 3
   },
   "file_extension": ".py",
   "mimetype": "text/x-python",
   "name": "python",
   "nbconvert_exporter": "python",
   "pygments_lexer": "ipython3",
   "version": "3.11.3"
  },
  "orig_nbformat": 4
 },
 "nbformat": 4,
 "nbformat_minor": 2
}
