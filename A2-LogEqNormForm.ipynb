{
 "cells": [
  {
   "cell_type": "markdown",
   "metadata": {},
   "source": [
    "## Assignment 3 - Logical Equivalences & Normal Forms"
   ]
  },
  {
   "cell_type": "markdown",
   "metadata": {},
   "source": [
    "### 1 Tautologies and Contradictions  \n",
    "Create 3 Tautologies and 3 Contradictions of your choice and print the truth tables for them.\n"
   ]
  },
  {
   "cell_type": "code",
   "execution_count": 5,
   "metadata": {},
   "outputs": [],
   "source": [
    "from sympy import *"
   ]
  },
  {
   "cell_type": "code",
   "execution_count": 1,
   "metadata": {},
   "outputs": [],
   "source": [
    "# Tautologies\n"
   ]
  },
  {
   "cell_type": "code",
   "execution_count": 2,
   "metadata": {},
   "outputs": [],
   "source": [
    "# Contradictions"
   ]
  },
  {
   "cell_type": "markdown",
   "metadata": {},
   "source": [
    "### 2: Logical Equivalences     \n",
    "Create a function that will test for logical equivalence when it is passed two expressions. Then test the following examples that align with the Logical Equivalence Rules:\n",
    "1. Idempotent Laws\n",
    "2. Double Negation Law\n",
    "3. Negation Laws\n",
    "4. Commutative Laws\n",
    "5. Associative Laws\n",
    "6. Distributive Laws\n",
    "7. Absorption Laws\n",
    "8. Conditional Disjunction Equivalence\n",
    "8. DeMorgans Laws\n",
    "\n",
    "My solution required using the Function Calls method of defining expressions."
   ]
  },
  {
   "cell_type": "code",
   "execution_count": 9,
   "metadata": {},
   "outputs": [],
   "source": [
    "# Function that will test for logical equivalence\n",
    "from sympy.logic.boolalg import simplify_logic\n",
    "\n",
    "def test_logical_equivalence(expression1, expression2):\n",
    "    # write code to test for logical equivalence here"
   ]
  },
  {
   "cell_type": "code",
   "execution_count": 11,
   "metadata": {},
   "outputs": [
    {
     "name": "stdout",
     "output_type": "stream",
     "text": [
      "Example 1 - Idempotent Laws:\n",
      "True\n",
      "\n",
      "Example 2 - Double Negation Law:\n",
      "True\n",
      "\n",
      "Example 3 - Negation Laws:\n",
      "True\n",
      "\n",
      "Example 4 - Commutative Laws:\n",
      "True\n",
      "\n",
      "Example 5 - Associative Laws:\n",
      "True\n",
      "\n",
      "Example 6 - Distributive Laws:\n",
      "True\n",
      "\n",
      "Example 7 - Absorption Laws:\n",
      "True\n",
      "\n",
      "Example 8 - Conditional Disjunction Equivalence:\n",
      "True\n",
      "\n",
      "Example 9 - De Morgan's Laws:\n",
      "Law 1: True\n",
      "Law 2: True\n"
     ]
    }
   ],
   "source": [
    "# Step 1: Define the symbols 'a', 'b', and 'c'\n",
    "a, b, c = symbols('a b c')\n",
    "\n",
    "# Example 1: Idempotent Laws\n",
    "###### define expr1 and expr2 here\n",
    "print(\"Example 1 - Idempotent Laws:\")\n",
    "print(test_logical_equivalence(expr1, expr2))\n",
    "\n",
    "# Example 2: Double Negation Law\n",
    "###### define expr1 and expr2 here\n",
    "print(\"\\nExample 2 - Double Negation Law:\")\n",
    "print(test_logical_equivalence(expr1, expr2))\n",
    "\n",
    "# Example 3: Negation Laws\n",
    "###### define expr1 and expr2 here\n",
    "print(\"\\nExample 3 - Negation Laws:\")\n",
    "print(test_logical_equivalence(expr1, expr2))\n",
    "\n",
    "# Example 4: Commutative Laws\n",
    "###### define expr1 and expr2 here\n",
    "print(\"\\nExample 4 - Commutative Laws:\")\n",
    "print(test_logical_equivalence(expr1, expr2))\n",
    "\n",
    "# Example 5: Associative Laws\n",
    "###### define expr1 and expr2 here\n",
    "print(\"\\nExample 5 - Associative Laws:\")\n",
    "print(test_logical_equivalence(expr1, expr2))\n",
    "\n",
    "# Example 6: Distributive Laws\n",
    "###### define expr1 and expr2 here\n",
    "print(\"\\nExample 6 - Distributive Laws:\")\n",
    "print(test_logical_equivalence(expr1, expr2))\n",
    "\n",
    "# Example 7: Absorption Laws\n",
    "###### define expr1 and expr2 here\n",
    "print(\"\\nExample 7 - Absorption Laws:\")\n",
    "print(test_logical_equivalence(expr1, expr2))\n",
    "\n",
    "# Example 8: Conditional Disjunction Equivalence\n",
    "###### define expr1 and expr2 here\n",
    "print(\"\\nExample 8 - Conditional Disjunction Equivalence:\")\n",
    "print(test_logical_equivalence(expr1, expr2))\n",
    "\n",
    "# Example 9: De Morgan's Laws\n",
    "###### define expr1 and expr2 here\n",
    "print(\"\\nExample 9 - De Morgan's Laws:\")\n",
    "print(\"Law 1: \" + str(test_logical_equivalence(expr1, expr2)))\n",
    "print(\"Law 2: \" + str(test_logical_equivalence(expr3, expr4)))\n"
   ]
  },
  {
   "cell_type": "markdown",
   "metadata": {},
   "source": [
    "### 3: Sum of Products (Minterms) and Product of Sums (Maxterms)    \n",
    "For this exercise, you will be given the line numbers of the minterms and maxterms. Use SymPy to determine what the SOP Form is for 1-3 and what the POS form is for 4 and 5.\n",
    "1. Minterms: 0, 1, 2, 3, 6, 7, 8, 9, 10, 11, 14, 15\n",
    "2. Minterms: 0, 1, 2, 3, 5, 6, 7, 8, 9, 10, 11, 12, 13, 14, 15\n",
    "3. Minterms: 0, 1, 2, 3, 8, 9, 10, 11\n",
    "4. Maxterms: 0, 1, 2, 5, 7, 10, 13, 15\n",
    "5. Maxterms: 0, 2, 3, 6, 8, 9, 12, 15"
   ]
  },
  {
   "cell_type": "code",
   "execution_count": 12,
   "metadata": {},
   "outputs": [],
   "source": [
    "# 1: Minterms: 0, 1, 2, 3, 6, 7, 8, 9, 10, 11, 14, 15\n",
    "\n"
   ]
  },
  {
   "cell_type": "code",
   "execution_count": 13,
   "metadata": {},
   "outputs": [],
   "source": [
    "# 2. Minterms: 0, 1, 2, 3, 5, 6, 7, 8, 9, 10, 11, 12, 13, 14, 15\n",
    "\n"
   ]
  },
  {
   "cell_type": "code",
   "execution_count": 14,
   "metadata": {},
   "outputs": [],
   "source": [
    "# 3. Minterms: 0, 1, 2, 3, 8, 9, 10, 11\n",
    "\n"
   ]
  },
  {
   "cell_type": "code",
   "execution_count": 15,
   "metadata": {},
   "outputs": [],
   "source": [
    "# 4. Maxterms: 0, 1, 2, 5, 7, 10, 13, 15\n",
    "\n"
   ]
  },
  {
   "cell_type": "code",
   "execution_count": 16,
   "metadata": {},
   "outputs": [],
   "source": [
    "# 5. Maxterms: 0, 2, 3, 6, 8, 9, 12, 15\n",
    "\n"
   ]
  },
  {
   "cell_type": "markdown",
   "metadata": {},
   "source": [
    "### 4: Conjective Normal Form and Disjunctive Normal Form     \n",
    "Write a script that will test is expressions are in CNF and DNF form. If it is in either, print that its already in that correct form. If it is not, convert it to the appropriate form and print out the result. Show the original expression each time. The following are the expressions:\n",
    "1. (a and b) or (b and c)\n",
    "2. (p or q) and (not p or q or r)\n",
    "3. (x and y) or (not y and z)\n"
   ]
  },
  {
   "cell_type": "code",
   "execution_count": 17,
   "metadata": {},
   "outputs": [],
   "source": [
    "# 1: (a and b) or (b and c)"
   ]
  },
  {
   "cell_type": "code",
   "execution_count": 18,
   "metadata": {},
   "outputs": [],
   "source": [
    "# 2: (p or q) and (not p or q or r)\n"
   ]
  },
  {
   "cell_type": "code",
   "execution_count": 19,
   "metadata": {},
   "outputs": [],
   "source": [
    "# 3: (x and y) or (not y and z)"
   ]
  },
  {
   "cell_type": "markdown",
   "metadata": {},
   "source": [
    "### 5: Satisfiability\n",
    "Use SymPy to test for satisfiability on these expressions and print out whether they are satisfiable or not. If it is satisfiable, show what the True and False values have to be to make it satisfiable.\n",
    "1. (a and b) or (not a and b) or (c and not b)\n",
    "2. (p or q) and (not p or q or r)\n",
    "3. (x and y) or (not y and z)"
   ]
  },
  {
   "cell_type": "code",
   "execution_count": 21,
   "metadata": {},
   "outputs": [],
   "source": [
    "# 1 (a and b) or (not a and b) or (c and not b)\n"
   ]
  },
  {
   "cell_type": "code",
   "execution_count": 22,
   "metadata": {},
   "outputs": [],
   "source": [
    "# 2: (p or q) and (not p or q or r)\n"
   ]
  },
  {
   "cell_type": "code",
   "execution_count": 23,
   "metadata": {},
   "outputs": [],
   "source": [
    "# 3: (x and y) or (not y and z)\n"
   ]
  }
 ],
 "metadata": {
  "kernelspec": {
   "display_name": ".venv",
   "language": "python",
   "name": "python3"
  },
  "language_info": {
   "codemirror_mode": {
    "name": "ipython",
    "version": 3
   },
   "file_extension": ".py",
   "mimetype": "text/x-python",
   "name": "python",
   "nbconvert_exporter": "python",
   "pygments_lexer": "ipython3",
   "version": "3.11.3"
  },
  "orig_nbformat": 4
 },
 "nbformat": 4,
 "nbformat_minor": 2
}
